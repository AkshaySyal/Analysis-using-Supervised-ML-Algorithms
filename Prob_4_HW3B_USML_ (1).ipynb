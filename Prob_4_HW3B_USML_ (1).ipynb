{
  "nbformat": 4,
  "nbformat_minor": 0,
  "metadata": {
    "colab": {
      "provenance": [],
      "collapsed_sections": [
        "_c5n5BT0F6FY",
        "c2Bl18jSmI0g"
      ]
    },
    "kernelspec": {
      "name": "python3",
      "display_name": "Python 3"
    },
    "language_info": {
      "name": "python"
    }
  },
  "cells": [
    {
      "cell_type": "markdown",
      "source": [
        "##PROBLEM 4 : L1 feature selection on text\n",
        "Run a strongL1-regularized regression (library) on 20NG, and select 200 features (words) based on regression coefficients absolute value. Then reconstruct the dateaset with only these features, and rerun any of the classification tasks,"
      ],
      "metadata": {
        "id": "LGikgv1-ljc4"
      }
    },
    {
      "cell_type": "code",
      "source": [
        "from google.colab import drive\n",
        "drive.mount('/content/drive')\n",
        "import numpy as np\n",
        "import matplotlib.pyplot as plt\n",
        "import pandas as pd\n",
        "import pickle\n",
        "from sklearn.datasets import fetch_20newsgroups\n",
        "from sklearn.feature_extraction.text import TfidfVectorizer\n",
        "from sklearn.linear_model import LogisticRegression\n",
        "import re\n",
        "import nltk\n",
        "from nltk.corpus import stopwords\n",
        "from nltk.tokenize import word_tokenize\n",
        "nltk.download('punkt')\n",
        "nltk.download('stopwords')\n",
        "nltk.download('wordnet')\n",
        "from nltk.corpus import wordnet\n",
        "from sklearn.metrics import accuracy_score, confusion_matrix, classification_report\n",
        "from sklearn.model_selection import train_test_split\n",
        "import scipy.sparse as sp\n",
        "from sklearn.tree import DecisionTreeClassifier, plot_tree\n",
        "from sklearn.linear_model import Lasso"
      ],
      "metadata": {
        "collapsed": true,
        "id": "OSGp4FCBpl9s"
      },
      "execution_count": null,
      "outputs": []
    },
    {
      "cell_type": "markdown",
      "source": [
        "#### Preprocessing 20NG"
      ],
      "metadata": {
        "id": "UShj_CNyFsf6"
      }
    },
    {
      "cell_type": "code",
      "source": [
        "# 20NG dataset\n",
        "file_path = '/content/drive/MyDrive/USML/HW 3A/20NG/train_20NG_wo_header_footer_quotes.pkl'\n",
        "\n",
        "with open(file_path, 'rb') as file:\n",
        "    data = pickle.load(file)\n",
        "\n",
        "def preprocess(text):\n",
        "  def is_valid_word(word):\n",
        "    return bool(wordnet.synsets(word))\n",
        "  text = re.sub(r'[^a-zA-Z0-9 \\n]', '', text) # removing any character that is not an alphanumeric character (letters and digits), a space, or a newline (\\n)\n",
        "  text = re.sub(r'\\n+', ' ', text) # removing new line\n",
        "  text = text.lower() # lower casing\n",
        "  tokens = word_tokenize(text)\n",
        "  stop_words = set(stopwords.words('english'))\n",
        "  tokens = [word for word in tokens if word not in stop_words] # removing stop words\n",
        "  filtered_tokens = [word for word in tokens if is_valid_word(word)] # removing non-english word\n",
        "\n",
        "  return ' '.join(filtered_tokens)\n",
        "\n",
        "preprocessed_data = []\n",
        "\n",
        "for text in data['data']:\n",
        "  preprocessed_data.append(preprocess(text))\n",
        "\n",
        "vectorizer = TfidfVectorizer()\n",
        "tng_data = vectorizer.fit_transform(preprocessed_data) # SHAPE:\n",
        "\n",
        "tng_labels = data['target']\n",
        "\n",
        "num_nonzero_elements = tng_data.nnz\n",
        "total_elements = tng_data.shape[0] * tng_data.shape[1]\n",
        "sparsity_ratio = 1 - (num_nonzero_elements / total_elements)\n",
        "print(f\"Sparsity ratio: {sparsity_ratio:.4f}\")\n",
        "print(\"Shape: \",tng_data.shape)"
      ],
      "metadata": {
        "colab": {
          "base_uri": "https://localhost:8080/"
        },
        "id": "CFPaxoI3Q_Cl",
        "outputId": "6c6fe755-b337-443a-fb71-8364b2bea946"
      },
      "execution_count": null,
      "outputs": [
        {
          "output_type": "stream",
          "name": "stdout",
          "text": [
            "Sparsity ratio: 0.9983\n",
            "Shape:  (11314, 32863)\n"
          ]
        }
      ]
    },
    {
      "cell_type": "code",
      "source": [
        "tng_train_data, tng_test_data, tng_train_lbl, tng_test_lbl = train_test_split(tng_data, tng_labels, test_size=0.2, random_state=42)"
      ],
      "metadata": {
        "id": "L0Tc-oDeKTdt"
      },
      "execution_count": null,
      "outputs": []
    },
    {
      "cell_type": "markdown",
      "source": [
        "####Feature Selection using L1"
      ],
      "metadata": {
        "id": "b59VIP_X4x2v"
      }
    },
    {
      "cell_type": "code",
      "source": [
        "l1_reg = Lasso(alpha=0.0027)\n",
        "l1_reg.fit(tng_train_data, tng_train_lbl)"
      ],
      "metadata": {
        "id": "Rie2lJDX40u3",
        "colab": {
          "base_uri": "https://localhost:8080/",
          "height": 75
        },
        "outputId": "d731d7f4-d19d-44b0-ae80-6022bfa1ec3a"
      },
      "execution_count": null,
      "outputs": [
        {
          "output_type": "execute_result",
          "data": {
            "text/plain": [
              "Lasso(alpha=0.0027)"
            ],
            "text/html": [
              "<style>#sk-container-id-28 {color: black;background-color: white;}#sk-container-id-28 pre{padding: 0;}#sk-container-id-28 div.sk-toggleable {background-color: white;}#sk-container-id-28 label.sk-toggleable__label {cursor: pointer;display: block;width: 100%;margin-bottom: 0;padding: 0.3em;box-sizing: border-box;text-align: center;}#sk-container-id-28 label.sk-toggleable__label-arrow:before {content: \"▸\";float: left;margin-right: 0.25em;color: #696969;}#sk-container-id-28 label.sk-toggleable__label-arrow:hover:before {color: black;}#sk-container-id-28 div.sk-estimator:hover label.sk-toggleable__label-arrow:before {color: black;}#sk-container-id-28 div.sk-toggleable__content {max-height: 0;max-width: 0;overflow: hidden;text-align: left;background-color: #f0f8ff;}#sk-container-id-28 div.sk-toggleable__content pre {margin: 0.2em;color: black;border-radius: 0.25em;background-color: #f0f8ff;}#sk-container-id-28 input.sk-toggleable__control:checked~div.sk-toggleable__content {max-height: 200px;max-width: 100%;overflow: auto;}#sk-container-id-28 input.sk-toggleable__control:checked~label.sk-toggleable__label-arrow:before {content: \"▾\";}#sk-container-id-28 div.sk-estimator input.sk-toggleable__control:checked~label.sk-toggleable__label {background-color: #d4ebff;}#sk-container-id-28 div.sk-label input.sk-toggleable__control:checked~label.sk-toggleable__label {background-color: #d4ebff;}#sk-container-id-28 input.sk-hidden--visually {border: 0;clip: rect(1px 1px 1px 1px);clip: rect(1px, 1px, 1px, 1px);height: 1px;margin: -1px;overflow: hidden;padding: 0;position: absolute;width: 1px;}#sk-container-id-28 div.sk-estimator {font-family: monospace;background-color: #f0f8ff;border: 1px dotted black;border-radius: 0.25em;box-sizing: border-box;margin-bottom: 0.5em;}#sk-container-id-28 div.sk-estimator:hover {background-color: #d4ebff;}#sk-container-id-28 div.sk-parallel-item::after {content: \"\";width: 100%;border-bottom: 1px solid gray;flex-grow: 1;}#sk-container-id-28 div.sk-label:hover label.sk-toggleable__label {background-color: #d4ebff;}#sk-container-id-28 div.sk-serial::before {content: \"\";position: absolute;border-left: 1px solid gray;box-sizing: border-box;top: 0;bottom: 0;left: 50%;z-index: 0;}#sk-container-id-28 div.sk-serial {display: flex;flex-direction: column;align-items: center;background-color: white;padding-right: 0.2em;padding-left: 0.2em;position: relative;}#sk-container-id-28 div.sk-item {position: relative;z-index: 1;}#sk-container-id-28 div.sk-parallel {display: flex;align-items: stretch;justify-content: center;background-color: white;position: relative;}#sk-container-id-28 div.sk-item::before, #sk-container-id-28 div.sk-parallel-item::before {content: \"\";position: absolute;border-left: 1px solid gray;box-sizing: border-box;top: 0;bottom: 0;left: 50%;z-index: -1;}#sk-container-id-28 div.sk-parallel-item {display: flex;flex-direction: column;z-index: 1;position: relative;background-color: white;}#sk-container-id-28 div.sk-parallel-item:first-child::after {align-self: flex-end;width: 50%;}#sk-container-id-28 div.sk-parallel-item:last-child::after {align-self: flex-start;width: 50%;}#sk-container-id-28 div.sk-parallel-item:only-child::after {width: 0;}#sk-container-id-28 div.sk-dashed-wrapped {border: 1px dashed gray;margin: 0 0.4em 0.5em 0.4em;box-sizing: border-box;padding-bottom: 0.4em;background-color: white;}#sk-container-id-28 div.sk-label label {font-family: monospace;font-weight: bold;display: inline-block;line-height: 1.2em;}#sk-container-id-28 div.sk-label-container {text-align: center;}#sk-container-id-28 div.sk-container {/* jupyter's `normalize.less` sets `[hidden] { display: none; }` but bootstrap.min.css set `[hidden] { display: none !important; }` so we also need the `!important` here to be able to override the default hidden behavior on the sphinx rendered scikit-learn.org. See: https://github.com/scikit-learn/scikit-learn/issues/21755 */display: inline-block !important;position: relative;}#sk-container-id-28 div.sk-text-repr-fallback {display: none;}</style><div id=\"sk-container-id-28\" class=\"sk-top-container\"><div class=\"sk-text-repr-fallback\"><pre>Lasso(alpha=0.0027)</pre><b>In a Jupyter environment, please rerun this cell to show the HTML representation or trust the notebook. <br />On GitHub, the HTML representation is unable to render, please try loading this page with nbviewer.org.</b></div><div class=\"sk-container\" hidden><div class=\"sk-item\"><div class=\"sk-estimator sk-toggleable\"><input class=\"sk-toggleable__control sk-hidden--visually\" id=\"sk-estimator-id-28\" type=\"checkbox\" checked><label for=\"sk-estimator-id-28\" class=\"sk-toggleable__label sk-toggleable__label-arrow\">Lasso</label><div class=\"sk-toggleable__content\"><pre>Lasso(alpha=0.0027)</pre></div></div></div></div></div>"
            ]
          },
          "metadata": {},
          "execution_count": 93
        }
      ]
    },
    {
      "cell_type": "code",
      "source": [
        "c=0\n",
        "for n in l1_reg.coef_:\n",
        "  if n != 0:\n",
        "    c=c+1\n",
        "print(c)"
      ],
      "metadata": {
        "colab": {
          "base_uri": "https://localhost:8080/"
        },
        "id": "1HGByx15np6G",
        "outputId": "8ea8c5c5-aa67-4892-f736-60243293a625"
      },
      "execution_count": null,
      "outputs": [
        {
          "output_type": "stream",
          "name": "stdout",
          "text": [
            "200\n"
          ]
        }
      ]
    },
    {
      "cell_type": "code",
      "source": [
        "# Features selected by L1\n",
        "feature_names = np.asarray(vectorizer.get_feature_names_out())\n",
        "\n",
        "# Get the coefficients and their absolute values\n",
        "coef = l1_reg.coef_\n",
        "coef_abs = np.abs(coef)\n",
        "\n",
        "# Get the indices of the top 200 features based on absolute coefficient values\n",
        "top_200_indices = np.argsort(coef_abs)[-200:]\n",
        "\n",
        "# Get the names of the top 200 features\n",
        "top_200_features = feature_names[top_200_indices]\n",
        "top_200_features"
      ],
      "metadata": {
        "colab": {
          "base_uri": "https://localhost:8080/"
        },
        "id": "Npsq0DgixJQX",
        "outputId": "183dc6d0-bf45-42b2-ff07-ea965a74d9a8"
      },
      "execution_count": null,
      "outputs": [
        {
          "output_type": "execute_result",
          "data": {
            "text/plain": [
              "array(['product', 'new', 'orbit', 'fine', 'msg', 'mail', 'real', 'server',\n",
              "       'islamic', 'define', 'hp', 'tiff', 'life', 'rosicrucian', 'offer',\n",
              "       'area', 'believe', 'application', 'launch', 'tried', 'manager',\n",
              "       'american', 'cant', 'get', 'research', 'person', 'display',\n",
              "       'guess', 'also', 'hardware', 'nec', 'tv', 'desktop', 'live',\n",
              "       'widget', 'fast', 'faster', 'best', 'many', 'colors', 'polygon',\n",
              "       'world', 'low', 'satan', 'linux', 'bought', 'quran', 'war',\n",
              "       'never', 'turkey', 'disk', 'political', 'screen', 'work', 'font',\n",
              "       'board', 'hello', 'may', 'authority', 'truth', 'got', 'case',\n",
              "       'mode', 'cpu', 'days', 'fonts', 'means', 'stop', 'running',\n",
              "       'circuit', 'evidence', 'cards', 'food', 'bike', 'deletion', 'city',\n",
              "       'available', 'years', 'doctor', 'pc', 'police', 'states', 'access',\n",
              "       'said', 'population', 'try', 'motif', 'president', 'advance',\n",
              "       'peace', 'shipping', 'federal', 'please', 'drives', 'port', 'man',\n",
              "       'printer', 'house', 'god', 'law', 'force', 'ftp', 'shuttle',\n",
              "       'military', 'sin', 'trial', 'freewill', 'need', 'directory',\n",
              "       'software', 'video', 'dos', 'color', 'machine', 'driver', 'drug',\n",
              "       'sale', 'scsi', 'looking', 'email', 'package', 'arab', 'monitor',\n",
              "       'moon', 'speed', 'drivers', 'price', 'country', 'performance',\n",
              "       'mouse', 'armenian', 'set', 'system', 'bus', 'study', '14',\n",
              "       'homosexual', 'surrender', 'use', 'upgrade', 'congress', 'code',\n",
              "       'window', 'turkish', 'format', 'blood', 'public', 'car', 'version',\n",
              "       'earth', 'program', 'clinton', 'apple', 'armenians', 'thanks',\n",
              "       'jesus', 'guns', 'killed', 'memory', 'rights', 'tax', 'hi',\n",
              "       'drugs', 'christian', 'card', 'motto', 'fire', 'file', 'see',\n",
              "       'problem', 'us', 'drive', 'state', 'mac', 'atheists', 'jews',\n",
              "       'files', 'image', 'christ', 'computer', 'fbi', 'mr', 'church',\n",
              "       'health', 'islam', 'using', '3d', 'space', 'people', 'israeli',\n",
              "       'weapons', 'gun', 'israel', 'windows', 'government', 'christians',\n",
              "       'children', 'graphics', 'bobby', 'atheism'], dtype=object)"
            ]
          },
          "metadata": {},
          "execution_count": 95
        }
      ]
    },
    {
      "cell_type": "code",
      "source": [
        "# Reconstructing the dataset\n",
        "tng_train_data_selected = tng_train_data[:, top_200_indices]"
      ],
      "metadata": {
        "id": "F5r3ycdgnGTI"
      },
      "execution_count": null,
      "outputs": []
    },
    {
      "cell_type": "markdown",
      "source": [
        "###Logistic Regression on 20NG"
      ],
      "metadata": {
        "id": "_c5n5BT0F6FY"
      }
    },
    {
      "cell_type": "code",
      "source": [
        "log_reg = LogisticRegression(penalty='l2', max_iter=1000,solver='lbfgs', multi_class='multinomial')\n",
        "log_reg.fit(tng_train_data_selected, tng_train_lbl)"
      ],
      "metadata": {
        "colab": {
          "base_uri": "https://localhost:8080/",
          "height": 75
        },
        "id": "8sLQrpSVE1h7",
        "outputId": "d60a15df-136e-4649-a8ae-059da1fb29a1"
      },
      "execution_count": null,
      "outputs": [
        {
          "output_type": "execute_result",
          "data": {
            "text/plain": [
              "LogisticRegression(max_iter=1000, multi_class='multinomial')"
            ],
            "text/html": [
              "<style>#sk-container-id-31 {color: black;background-color: white;}#sk-container-id-31 pre{padding: 0;}#sk-container-id-31 div.sk-toggleable {background-color: white;}#sk-container-id-31 label.sk-toggleable__label {cursor: pointer;display: block;width: 100%;margin-bottom: 0;padding: 0.3em;box-sizing: border-box;text-align: center;}#sk-container-id-31 label.sk-toggleable__label-arrow:before {content: \"▸\";float: left;margin-right: 0.25em;color: #696969;}#sk-container-id-31 label.sk-toggleable__label-arrow:hover:before {color: black;}#sk-container-id-31 div.sk-estimator:hover label.sk-toggleable__label-arrow:before {color: black;}#sk-container-id-31 div.sk-toggleable__content {max-height: 0;max-width: 0;overflow: hidden;text-align: left;background-color: #f0f8ff;}#sk-container-id-31 div.sk-toggleable__content pre {margin: 0.2em;color: black;border-radius: 0.25em;background-color: #f0f8ff;}#sk-container-id-31 input.sk-toggleable__control:checked~div.sk-toggleable__content {max-height: 200px;max-width: 100%;overflow: auto;}#sk-container-id-31 input.sk-toggleable__control:checked~label.sk-toggleable__label-arrow:before {content: \"▾\";}#sk-container-id-31 div.sk-estimator input.sk-toggleable__control:checked~label.sk-toggleable__label {background-color: #d4ebff;}#sk-container-id-31 div.sk-label input.sk-toggleable__control:checked~label.sk-toggleable__label {background-color: #d4ebff;}#sk-container-id-31 input.sk-hidden--visually {border: 0;clip: rect(1px 1px 1px 1px);clip: rect(1px, 1px, 1px, 1px);height: 1px;margin: -1px;overflow: hidden;padding: 0;position: absolute;width: 1px;}#sk-container-id-31 div.sk-estimator {font-family: monospace;background-color: #f0f8ff;border: 1px dotted black;border-radius: 0.25em;box-sizing: border-box;margin-bottom: 0.5em;}#sk-container-id-31 div.sk-estimator:hover {background-color: #d4ebff;}#sk-container-id-31 div.sk-parallel-item::after {content: \"\";width: 100%;border-bottom: 1px solid gray;flex-grow: 1;}#sk-container-id-31 div.sk-label:hover label.sk-toggleable__label {background-color: #d4ebff;}#sk-container-id-31 div.sk-serial::before {content: \"\";position: absolute;border-left: 1px solid gray;box-sizing: border-box;top: 0;bottom: 0;left: 50%;z-index: 0;}#sk-container-id-31 div.sk-serial {display: flex;flex-direction: column;align-items: center;background-color: white;padding-right: 0.2em;padding-left: 0.2em;position: relative;}#sk-container-id-31 div.sk-item {position: relative;z-index: 1;}#sk-container-id-31 div.sk-parallel {display: flex;align-items: stretch;justify-content: center;background-color: white;position: relative;}#sk-container-id-31 div.sk-item::before, #sk-container-id-31 div.sk-parallel-item::before {content: \"\";position: absolute;border-left: 1px solid gray;box-sizing: border-box;top: 0;bottom: 0;left: 50%;z-index: -1;}#sk-container-id-31 div.sk-parallel-item {display: flex;flex-direction: column;z-index: 1;position: relative;background-color: white;}#sk-container-id-31 div.sk-parallel-item:first-child::after {align-self: flex-end;width: 50%;}#sk-container-id-31 div.sk-parallel-item:last-child::after {align-self: flex-start;width: 50%;}#sk-container-id-31 div.sk-parallel-item:only-child::after {width: 0;}#sk-container-id-31 div.sk-dashed-wrapped {border: 1px dashed gray;margin: 0 0.4em 0.5em 0.4em;box-sizing: border-box;padding-bottom: 0.4em;background-color: white;}#sk-container-id-31 div.sk-label label {font-family: monospace;font-weight: bold;display: inline-block;line-height: 1.2em;}#sk-container-id-31 div.sk-label-container {text-align: center;}#sk-container-id-31 div.sk-container {/* jupyter's `normalize.less` sets `[hidden] { display: none; }` but bootstrap.min.css set `[hidden] { display: none !important; }` so we also need the `!important` here to be able to override the default hidden behavior on the sphinx rendered scikit-learn.org. See: https://github.com/scikit-learn/scikit-learn/issues/21755 */display: inline-block !important;position: relative;}#sk-container-id-31 div.sk-text-repr-fallback {display: none;}</style><div id=\"sk-container-id-31\" class=\"sk-top-container\"><div class=\"sk-text-repr-fallback\"><pre>LogisticRegression(max_iter=1000, multi_class=&#x27;multinomial&#x27;)</pre><b>In a Jupyter environment, please rerun this cell to show the HTML representation or trust the notebook. <br />On GitHub, the HTML representation is unable to render, please try loading this page with nbviewer.org.</b></div><div class=\"sk-container\" hidden><div class=\"sk-item\"><div class=\"sk-estimator sk-toggleable\"><input class=\"sk-toggleable__control sk-hidden--visually\" id=\"sk-estimator-id-31\" type=\"checkbox\" checked><label for=\"sk-estimator-id-31\" class=\"sk-toggleable__label sk-toggleable__label-arrow\">LogisticRegression</label><div class=\"sk-toggleable__content\"><pre>LogisticRegression(max_iter=1000, multi_class=&#x27;multinomial&#x27;)</pre></div></div></div></div></div>"
            ]
          },
          "metadata": {},
          "execution_count": 101
        }
      ]
    },
    {
      "cell_type": "markdown",
      "source": [
        "#### Classification performance"
      ],
      "metadata": {
        "id": "4BbPMAC7Lu3q"
      }
    },
    {
      "cell_type": "code",
      "source": [
        "# Performance of Logistic Regression in HW3A-PB1"
      ],
      "metadata": {
        "colab": {
          "base_uri": "https://localhost:8080/"
        },
        "id": "AEHhERlzxzED",
        "outputId": "0f7f3b64-d53a-42b6-cf37-c0b6ccecf05e"
      },
      "execution_count": null,
      "outputs": [
        {
          "output_type": "stream",
          "name": "stdout",
          "text": [
            "\n",
            "Accuracy: 0.7163\n",
            "Classification Report:\n",
            "              precision    recall  f1-score   support\n",
            "\n",
            "           0       0.68      0.67      0.68        97\n",
            "           1       0.65      0.69      0.67       104\n",
            "           2       0.68      0.65      0.67       115\n",
            "           3       0.65      0.65      0.65       123\n",
            "           4       0.79      0.55      0.65       126\n",
            "           5       0.72      0.82      0.77       106\n",
            "           6       0.69      0.72      0.71       109\n",
            "           7       0.75      0.73      0.74       139\n",
            "           8       0.50      0.80      0.62       122\n",
            "           9       0.71      0.78      0.74       102\n",
            "          10       0.88      0.79      0.83       108\n",
            "          11       0.92      0.83      0.87       125\n",
            "          12       0.62      0.65      0.64       114\n",
            "          13       0.76      0.78      0.77       119\n",
            "          14       0.76      0.83      0.79       127\n",
            "          15       0.72      0.77      0.75       122\n",
            "          16       0.72      0.77      0.74       121\n",
            "          17       0.82      0.76      0.79       102\n",
            "          18       0.81      0.69      0.75       107\n",
            "          19       0.68      0.20      0.31        75\n",
            "\n",
            "    accuracy                           0.72      2263\n",
            "   macro avg       0.73      0.71      0.71      2263\n",
            "weighted avg       0.73      0.72      0.71      2263\n",
            "\n"
          ]
        }
      ]
    },
    {
      "cell_type": "code",
      "source": [
        "tng_test_l1_200 = tng_test_data[:, top_200_indices]\n",
        "\n",
        "print('Performance after L1 feature selection')\n",
        "tng_l1_pred = log_reg.predict(tng_test_l1_200)\n",
        "accuracy = accuracy_score(tng_test_lbl, tng_l1_pred)\n",
        "print(f\"Accuracy: {accuracy:.4f}\")\n",
        "\n",
        "# Classification report\n",
        "class_report = classification_report(tng_test_lbl, tng_l1_pred)\n",
        "print(\"Classification Report:\")\n",
        "print(class_report)"
      ],
      "metadata": {
        "colab": {
          "base_uri": "https://localhost:8080/"
        },
        "id": "ClYdd-taCX_V",
        "outputId": "75e755cb-349a-4d4f-d568-cb98cf51a975"
      },
      "execution_count": null,
      "outputs": [
        {
          "output_type": "stream",
          "name": "stdout",
          "text": [
            "Performance after L1 feature selection\n",
            "Accuracy: 0.4658\n",
            "Classification Report:\n",
            "              precision    recall  f1-score   support\n",
            "\n",
            "           0       0.77      0.24      0.36        97\n",
            "           1       0.52      0.52      0.52       104\n",
            "           2       0.63      0.61      0.62       115\n",
            "           3       0.52      0.54      0.53       123\n",
            "           4       0.67      0.38      0.48       126\n",
            "           5       0.62      0.71      0.66       106\n",
            "           6       0.49      0.57      0.53       109\n",
            "           7       0.75      0.41      0.53       139\n",
            "           8       0.79      0.30      0.44       122\n",
            "           9       0.14      0.62      0.23       102\n",
            "          10       0.20      0.34      0.25       108\n",
            "          11       0.47      0.55      0.51       125\n",
            "          12       0.31      0.25      0.27       114\n",
            "          13       0.53      0.50      0.51       119\n",
            "          14       0.82      0.50      0.62       127\n",
            "          15       0.58      0.66      0.62       122\n",
            "          16       0.60      0.55      0.58       121\n",
            "          17       0.76      0.63      0.69       102\n",
            "          18       0.65      0.26      0.37       107\n",
            "          19       1.00      0.03      0.05        75\n",
            "\n",
            "    accuracy                           0.47      2263\n",
            "   macro avg       0.59      0.46      0.47      2263\n",
            "weighted avg       0.59      0.47      0.48      2263\n",
            "\n"
          ]
        }
      ]
    },
    {
      "cell_type": "code",
      "source": [],
      "metadata": {
        "id": "UOY7rdpR0cdN"
      },
      "execution_count": null,
      "outputs": []
    }
  ]
}