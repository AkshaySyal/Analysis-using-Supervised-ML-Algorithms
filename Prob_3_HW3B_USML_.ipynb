{
  "nbformat": 4,
  "nbformat_minor": 0,
  "metadata": {
    "colab": {
      "provenance": [],
      "collapsed_sections": [
        "_c5n5BT0F6FY",
        "c2Bl18jSmI0g"
      ]
    },
    "kernelspec": {
      "name": "python3",
      "display_name": "Python 3"
    },
    "language_info": {
      "name": "python"
    }
  },
  "cells": [
    {
      "cell_type": "markdown",
      "source": [
        "##PROBLEM 3 : Pairwise Feature selection for text\n",
        "On 20NG, run feature selection using skikit-learn built in \"chi2\" criteria to select top 200 features. Rerun a classification task, compare performance with HW3A-PB1. Then repeat the whole pipeline with \"mutual-information\" criteria."
      ],
      "metadata": {
        "id": "LGikgv1-ljc4"
      }
    },
    {
      "cell_type": "code",
      "source": [
        "from google.colab import drive\n",
        "drive.mount('/content/drive')\n",
        "import numpy as np\n",
        "import matplotlib.pyplot as plt\n",
        "import pandas as pd\n",
        "import pickle\n",
        "from sklearn.datasets import fetch_20newsgroups\n",
        "from sklearn.feature_extraction.text import TfidfVectorizer\n",
        "from sklearn.linear_model import LogisticRegression\n",
        "import re\n",
        "import nltk\n",
        "from nltk.corpus import stopwords\n",
        "from nltk.tokenize import word_tokenize\n",
        "nltk.download('punkt')\n",
        "nltk.download('stopwords')\n",
        "nltk.download('wordnet')\n",
        "from nltk.corpus import wordnet\n",
        "from sklearn.metrics import accuracy_score, confusion_matrix, classification_report\n",
        "from sklearn.model_selection import train_test_split\n",
        "import scipy.sparse as sp\n",
        "from sklearn.tree import DecisionTreeClassifier, plot_tree\n",
        "from sklearn.feature_selection import SelectKBest, chi2, mutual_info_classif"
      ],
      "metadata": {
        "collapsed": true,
        "id": "OSGp4FCBpl9s"
      },
      "execution_count": null,
      "outputs": []
    },
    {
      "cell_type": "markdown",
      "source": [
        "#### Preprocessing 20NG"
      ],
      "metadata": {
        "id": "UShj_CNyFsf6"
      }
    },
    {
      "cell_type": "code",
      "source": [
        "# 20NG dataset\n",
        "file_path = '/content/drive/MyDrive/USML/HW 3A/20NG/train_20NG_wo_header_footer_quotes.pkl'\n",
        "\n",
        "with open(file_path, 'rb') as file:\n",
        "    data = pickle.load(file)\n",
        "\n",
        "def preprocess(text):\n",
        "  def is_valid_word(word):\n",
        "    return bool(wordnet.synsets(word))\n",
        "  text = re.sub(r'[^a-zA-Z0-9 \\n]', '', text) # removing any character that is not an alphanumeric character (letters and digits), a space, or a newline (\\n)\n",
        "  text = re.sub(r'\\n+', ' ', text) # removing new line\n",
        "  text = text.lower() # lower casing\n",
        "  tokens = word_tokenize(text)\n",
        "  stop_words = set(stopwords.words('english'))\n",
        "  tokens = [word for word in tokens if word not in stop_words] # removing stop words\n",
        "  filtered_tokens = [word for word in tokens if is_valid_word(word)] # removing non-english word\n",
        "\n",
        "  return ' '.join(filtered_tokens)\n",
        "\n",
        "preprocessed_data = []\n",
        "\n",
        "for text in data['data']:\n",
        "  preprocessed_data.append(preprocess(text))\n",
        "\n",
        "vectorizer = TfidfVectorizer()\n",
        "tng_data = vectorizer.fit_transform(preprocessed_data) # SHAPE:\n",
        "\n",
        "tng_labels = data['target']\n",
        "\n",
        "num_nonzero_elements = tng_data.nnz\n",
        "total_elements = tng_data.shape[0] * tng_data.shape[1]\n",
        "sparsity_ratio = 1 - (num_nonzero_elements / total_elements)\n",
        "print(f\"Sparsity ratio: {sparsity_ratio:.4f}\")\n",
        "print(\"Shape: \",tng_data.shape)"
      ],
      "metadata": {
        "colab": {
          "base_uri": "https://localhost:8080/"
        },
        "id": "CFPaxoI3Q_Cl",
        "outputId": "4e3bf274-4adb-47f6-9011-c45ad573047d"
      },
      "execution_count": null,
      "outputs": [
        {
          "output_type": "stream",
          "name": "stdout",
          "text": [
            "Sparsity ratio: 0.9983\n",
            "Shape:  (11314, 32863)\n"
          ]
        }
      ]
    },
    {
      "cell_type": "code",
      "source": [
        "tng_train_data, tng_test_data, tng_train_lbl, tng_test_lbl = train_test_split(tng_data, tng_labels, test_size=0.2, random_state=42)"
      ],
      "metadata": {
        "id": "L0Tc-oDeKTdt"
      },
      "execution_count": null,
      "outputs": []
    },
    {
      "cell_type": "markdown",
      "source": [
        "####Chi2"
      ],
      "metadata": {
        "id": "m7SSRJZC4ruW"
      }
    },
    {
      "cell_type": "code",
      "source": [
        "k_chi2_best = SelectKBest(score_func=chi2, k=200)\n",
        "tng_chi2 = k_chi2_best.fit_transform(tng_train_data, tng_train_lbl)"
      ],
      "metadata": {
        "id": "ad5N89h97s1g"
      },
      "execution_count": null,
      "outputs": []
    },
    {
      "cell_type": "markdown",
      "source": [
        "####Mutual Information Gain"
      ],
      "metadata": {
        "id": "b59VIP_X4x2v"
      }
    },
    {
      "cell_type": "code",
      "source": [
        "k_mi_best = SelectKBest(score_func=mutual_info_classif, k=200)\n",
        "tng_mutual_info = k_mi_best.fit_transform(tng_train_data, tng_train_lbl)"
      ],
      "metadata": {
        "id": "Rie2lJDX40u3"
      },
      "execution_count": null,
      "outputs": []
    },
    {
      "cell_type": "markdown",
      "source": [
        "###Logistic Regression on 20NG"
      ],
      "metadata": {
        "id": "_c5n5BT0F6FY"
      }
    },
    {
      "cell_type": "code",
      "source": [
        "log_reg_chi2 = LogisticRegression(penalty='l2', solver='lbfgs', max_iter=1000, multi_class='multinomial')\n",
        "log_reg_chi2.fit(tng_chi2, tng_train_lbl)"
      ],
      "metadata": {
        "colab": {
          "base_uri": "https://localhost:8080/",
          "height": 75
        },
        "id": "8sLQrpSVE1h7",
        "outputId": "22b83432-4b29-4ad7-eb9b-36944886c7a9"
      },
      "execution_count": null,
      "outputs": [
        {
          "output_type": "execute_result",
          "data": {
            "text/plain": [
              "LogisticRegression(max_iter=1000, multi_class='multinomial')"
            ],
            "text/html": [
              "<style>#sk-container-id-3 {color: black;background-color: white;}#sk-container-id-3 pre{padding: 0;}#sk-container-id-3 div.sk-toggleable {background-color: white;}#sk-container-id-3 label.sk-toggleable__label {cursor: pointer;display: block;width: 100%;margin-bottom: 0;padding: 0.3em;box-sizing: border-box;text-align: center;}#sk-container-id-3 label.sk-toggleable__label-arrow:before {content: \"▸\";float: left;margin-right: 0.25em;color: #696969;}#sk-container-id-3 label.sk-toggleable__label-arrow:hover:before {color: black;}#sk-container-id-3 div.sk-estimator:hover label.sk-toggleable__label-arrow:before {color: black;}#sk-container-id-3 div.sk-toggleable__content {max-height: 0;max-width: 0;overflow: hidden;text-align: left;background-color: #f0f8ff;}#sk-container-id-3 div.sk-toggleable__content pre {margin: 0.2em;color: black;border-radius: 0.25em;background-color: #f0f8ff;}#sk-container-id-3 input.sk-toggleable__control:checked~div.sk-toggleable__content {max-height: 200px;max-width: 100%;overflow: auto;}#sk-container-id-3 input.sk-toggleable__control:checked~label.sk-toggleable__label-arrow:before {content: \"▾\";}#sk-container-id-3 div.sk-estimator input.sk-toggleable__control:checked~label.sk-toggleable__label {background-color: #d4ebff;}#sk-container-id-3 div.sk-label input.sk-toggleable__control:checked~label.sk-toggleable__label {background-color: #d4ebff;}#sk-container-id-3 input.sk-hidden--visually {border: 0;clip: rect(1px 1px 1px 1px);clip: rect(1px, 1px, 1px, 1px);height: 1px;margin: -1px;overflow: hidden;padding: 0;position: absolute;width: 1px;}#sk-container-id-3 div.sk-estimator {font-family: monospace;background-color: #f0f8ff;border: 1px dotted black;border-radius: 0.25em;box-sizing: border-box;margin-bottom: 0.5em;}#sk-container-id-3 div.sk-estimator:hover {background-color: #d4ebff;}#sk-container-id-3 div.sk-parallel-item::after {content: \"\";width: 100%;border-bottom: 1px solid gray;flex-grow: 1;}#sk-container-id-3 div.sk-label:hover label.sk-toggleable__label {background-color: #d4ebff;}#sk-container-id-3 div.sk-serial::before {content: \"\";position: absolute;border-left: 1px solid gray;box-sizing: border-box;top: 0;bottom: 0;left: 50%;z-index: 0;}#sk-container-id-3 div.sk-serial {display: flex;flex-direction: column;align-items: center;background-color: white;padding-right: 0.2em;padding-left: 0.2em;position: relative;}#sk-container-id-3 div.sk-item {position: relative;z-index: 1;}#sk-container-id-3 div.sk-parallel {display: flex;align-items: stretch;justify-content: center;background-color: white;position: relative;}#sk-container-id-3 div.sk-item::before, #sk-container-id-3 div.sk-parallel-item::before {content: \"\";position: absolute;border-left: 1px solid gray;box-sizing: border-box;top: 0;bottom: 0;left: 50%;z-index: -1;}#sk-container-id-3 div.sk-parallel-item {display: flex;flex-direction: column;z-index: 1;position: relative;background-color: white;}#sk-container-id-3 div.sk-parallel-item:first-child::after {align-self: flex-end;width: 50%;}#sk-container-id-3 div.sk-parallel-item:last-child::after {align-self: flex-start;width: 50%;}#sk-container-id-3 div.sk-parallel-item:only-child::after {width: 0;}#sk-container-id-3 div.sk-dashed-wrapped {border: 1px dashed gray;margin: 0 0.4em 0.5em 0.4em;box-sizing: border-box;padding-bottom: 0.4em;background-color: white;}#sk-container-id-3 div.sk-label label {font-family: monospace;font-weight: bold;display: inline-block;line-height: 1.2em;}#sk-container-id-3 div.sk-label-container {text-align: center;}#sk-container-id-3 div.sk-container {/* jupyter's `normalize.less` sets `[hidden] { display: none; }` but bootstrap.min.css set `[hidden] { display: none !important; }` so we also need the `!important` here to be able to override the default hidden behavior on the sphinx rendered scikit-learn.org. See: https://github.com/scikit-learn/scikit-learn/issues/21755 */display: inline-block !important;position: relative;}#sk-container-id-3 div.sk-text-repr-fallback {display: none;}</style><div id=\"sk-container-id-3\" class=\"sk-top-container\"><div class=\"sk-text-repr-fallback\"><pre>LogisticRegression(max_iter=1000, multi_class=&#x27;multinomial&#x27;)</pre><b>In a Jupyter environment, please rerun this cell to show the HTML representation or trust the notebook. <br />On GitHub, the HTML representation is unable to render, please try loading this page with nbviewer.org.</b></div><div class=\"sk-container\" hidden><div class=\"sk-item\"><div class=\"sk-estimator sk-toggleable\"><input class=\"sk-toggleable__control sk-hidden--visually\" id=\"sk-estimator-id-3\" type=\"checkbox\" checked><label for=\"sk-estimator-id-3\" class=\"sk-toggleable__label sk-toggleable__label-arrow\">LogisticRegression</label><div class=\"sk-toggleable__content\"><pre>LogisticRegression(max_iter=1000, multi_class=&#x27;multinomial&#x27;)</pre></div></div></div></div></div>"
            ]
          },
          "metadata": {},
          "execution_count": 59
        }
      ]
    },
    {
      "cell_type": "code",
      "source": [
        "log_reg_mi = LogisticRegression(penalty='l2', solver='lbfgs', max_iter=1000, multi_class='multinomial')\n",
        "log_reg_mi.fit(tng_mutual_info, tng_train_lbl)"
      ],
      "metadata": {
        "colab": {
          "base_uri": "https://localhost:8080/",
          "height": 75
        },
        "id": "pd4hr_38E3FJ",
        "outputId": "658b685f-9625-4fcd-84a4-86e2a45bc4b4"
      },
      "execution_count": null,
      "outputs": [
        {
          "output_type": "execute_result",
          "data": {
            "text/plain": [
              "LogisticRegression(max_iter=1000, multi_class='multinomial')"
            ],
            "text/html": [
              "<style>#sk-container-id-4 {color: black;background-color: white;}#sk-container-id-4 pre{padding: 0;}#sk-container-id-4 div.sk-toggleable {background-color: white;}#sk-container-id-4 label.sk-toggleable__label {cursor: pointer;display: block;width: 100%;margin-bottom: 0;padding: 0.3em;box-sizing: border-box;text-align: center;}#sk-container-id-4 label.sk-toggleable__label-arrow:before {content: \"▸\";float: left;margin-right: 0.25em;color: #696969;}#sk-container-id-4 label.sk-toggleable__label-arrow:hover:before {color: black;}#sk-container-id-4 div.sk-estimator:hover label.sk-toggleable__label-arrow:before {color: black;}#sk-container-id-4 div.sk-toggleable__content {max-height: 0;max-width: 0;overflow: hidden;text-align: left;background-color: #f0f8ff;}#sk-container-id-4 div.sk-toggleable__content pre {margin: 0.2em;color: black;border-radius: 0.25em;background-color: #f0f8ff;}#sk-container-id-4 input.sk-toggleable__control:checked~div.sk-toggleable__content {max-height: 200px;max-width: 100%;overflow: auto;}#sk-container-id-4 input.sk-toggleable__control:checked~label.sk-toggleable__label-arrow:before {content: \"▾\";}#sk-container-id-4 div.sk-estimator input.sk-toggleable__control:checked~label.sk-toggleable__label {background-color: #d4ebff;}#sk-container-id-4 div.sk-label input.sk-toggleable__control:checked~label.sk-toggleable__label {background-color: #d4ebff;}#sk-container-id-4 input.sk-hidden--visually {border: 0;clip: rect(1px 1px 1px 1px);clip: rect(1px, 1px, 1px, 1px);height: 1px;margin: -1px;overflow: hidden;padding: 0;position: absolute;width: 1px;}#sk-container-id-4 div.sk-estimator {font-family: monospace;background-color: #f0f8ff;border: 1px dotted black;border-radius: 0.25em;box-sizing: border-box;margin-bottom: 0.5em;}#sk-container-id-4 div.sk-estimator:hover {background-color: #d4ebff;}#sk-container-id-4 div.sk-parallel-item::after {content: \"\";width: 100%;border-bottom: 1px solid gray;flex-grow: 1;}#sk-container-id-4 div.sk-label:hover label.sk-toggleable__label {background-color: #d4ebff;}#sk-container-id-4 div.sk-serial::before {content: \"\";position: absolute;border-left: 1px solid gray;box-sizing: border-box;top: 0;bottom: 0;left: 50%;z-index: 0;}#sk-container-id-4 div.sk-serial {display: flex;flex-direction: column;align-items: center;background-color: white;padding-right: 0.2em;padding-left: 0.2em;position: relative;}#sk-container-id-4 div.sk-item {position: relative;z-index: 1;}#sk-container-id-4 div.sk-parallel {display: flex;align-items: stretch;justify-content: center;background-color: white;position: relative;}#sk-container-id-4 div.sk-item::before, #sk-container-id-4 div.sk-parallel-item::before {content: \"\";position: absolute;border-left: 1px solid gray;box-sizing: border-box;top: 0;bottom: 0;left: 50%;z-index: -1;}#sk-container-id-4 div.sk-parallel-item {display: flex;flex-direction: column;z-index: 1;position: relative;background-color: white;}#sk-container-id-4 div.sk-parallel-item:first-child::after {align-self: flex-end;width: 50%;}#sk-container-id-4 div.sk-parallel-item:last-child::after {align-self: flex-start;width: 50%;}#sk-container-id-4 div.sk-parallel-item:only-child::after {width: 0;}#sk-container-id-4 div.sk-dashed-wrapped {border: 1px dashed gray;margin: 0 0.4em 0.5em 0.4em;box-sizing: border-box;padding-bottom: 0.4em;background-color: white;}#sk-container-id-4 div.sk-label label {font-family: monospace;font-weight: bold;display: inline-block;line-height: 1.2em;}#sk-container-id-4 div.sk-label-container {text-align: center;}#sk-container-id-4 div.sk-container {/* jupyter's `normalize.less` sets `[hidden] { display: none; }` but bootstrap.min.css set `[hidden] { display: none !important; }` so we also need the `!important` here to be able to override the default hidden behavior on the sphinx rendered scikit-learn.org. See: https://github.com/scikit-learn/scikit-learn/issues/21755 */display: inline-block !important;position: relative;}#sk-container-id-4 div.sk-text-repr-fallback {display: none;}</style><div id=\"sk-container-id-4\" class=\"sk-top-container\"><div class=\"sk-text-repr-fallback\"><pre>LogisticRegression(max_iter=1000, multi_class=&#x27;multinomial&#x27;)</pre><b>In a Jupyter environment, please rerun this cell to show the HTML representation or trust the notebook. <br />On GitHub, the HTML representation is unable to render, please try loading this page with nbviewer.org.</b></div><div class=\"sk-container\" hidden><div class=\"sk-item\"><div class=\"sk-estimator sk-toggleable\"><input class=\"sk-toggleable__control sk-hidden--visually\" id=\"sk-estimator-id-4\" type=\"checkbox\" checked><label for=\"sk-estimator-id-4\" class=\"sk-toggleable__label sk-toggleable__label-arrow\">LogisticRegression</label><div class=\"sk-toggleable__content\"><pre>LogisticRegression(max_iter=1000, multi_class=&#x27;multinomial&#x27;)</pre></div></div></div></div></div>"
            ]
          },
          "metadata": {},
          "execution_count": 60
        }
      ]
    },
    {
      "cell_type": "markdown",
      "source": [
        "#### Classification performance"
      ],
      "metadata": {
        "id": "4BbPMAC7Lu3q"
      }
    },
    {
      "cell_type": "code",
      "source": [
        "# Performance of Logistic Regression in HW3A-PB1"
      ],
      "metadata": {
        "colab": {
          "base_uri": "https://localhost:8080/"
        },
        "id": "AEHhERlzxzED",
        "outputId": "0f7f3b64-d53a-42b6-cf37-c0b6ccecf05e"
      },
      "execution_count": null,
      "outputs": [
        {
          "output_type": "stream",
          "name": "stdout",
          "text": [
            "\n",
            "Accuracy: 0.7163\n",
            "Classification Report:\n",
            "              precision    recall  f1-score   support\n",
            "\n",
            "           0       0.68      0.67      0.68        97\n",
            "           1       0.65      0.69      0.67       104\n",
            "           2       0.68      0.65      0.67       115\n",
            "           3       0.65      0.65      0.65       123\n",
            "           4       0.79      0.55      0.65       126\n",
            "           5       0.72      0.82      0.77       106\n",
            "           6       0.69      0.72      0.71       109\n",
            "           7       0.75      0.73      0.74       139\n",
            "           8       0.50      0.80      0.62       122\n",
            "           9       0.71      0.78      0.74       102\n",
            "          10       0.88      0.79      0.83       108\n",
            "          11       0.92      0.83      0.87       125\n",
            "          12       0.62      0.65      0.64       114\n",
            "          13       0.76      0.78      0.77       119\n",
            "          14       0.76      0.83      0.79       127\n",
            "          15       0.72      0.77      0.75       122\n",
            "          16       0.72      0.77      0.74       121\n",
            "          17       0.82      0.76      0.79       102\n",
            "          18       0.81      0.69      0.75       107\n",
            "          19       0.68      0.20      0.31        75\n",
            "\n",
            "    accuracy                           0.72      2263\n",
            "   macro avg       0.73      0.71      0.71      2263\n",
            "weighted avg       0.73      0.72      0.71      2263\n",
            "\n"
          ]
        }
      ]
    },
    {
      "cell_type": "code",
      "source": [
        "tng_test_chi2 = k_chi2_best.transform(tng_test_data)\n",
        "\n",
        "print('Performance after chi2')\n",
        "tng_chi2_pred = log_reg_chi2.predict(tng_test_chi2)\n",
        "accuracy = accuracy_score(tng_test_lbl, tng_chi2_pred)\n",
        "print(f\"Accuracy: {accuracy:.4f}\")\n",
        "\n",
        "# Classification report\n",
        "class_report = classification_report(tng_test_lbl, tng_chi2_pred)\n",
        "print(\"Classification Report:\")\n",
        "print(class_report)"
      ],
      "metadata": {
        "colab": {
          "base_uri": "https://localhost:8080/"
        },
        "id": "ClYdd-taCX_V",
        "outputId": "7b09b2cc-f601-4afa-ad0d-3cc3f52065b9"
      },
      "execution_count": null,
      "outputs": [
        {
          "output_type": "stream",
          "name": "stdout",
          "text": [
            "Performance after chi2\n",
            "Accuracy: 0.5117\n",
            "Classification Report:\n",
            "              precision    recall  f1-score   support\n",
            "\n",
            "           0       0.67      0.32      0.43        97\n",
            "           1       0.56      0.46      0.51       104\n",
            "           2       0.68      0.60      0.64       115\n",
            "           3       0.52      0.54      0.53       123\n",
            "           4       0.80      0.32      0.45       126\n",
            "           5       0.63      0.60      0.62       106\n",
            "           6       0.63      0.56      0.59       109\n",
            "           7       0.78      0.56      0.65       139\n",
            "           8       0.87      0.48      0.61       122\n",
            "           9       0.58      0.52      0.55       102\n",
            "          10       0.74      0.62      0.67       108\n",
            "          11       0.84      0.74      0.78       125\n",
            "          12       0.11      0.67      0.18       114\n",
            "          13       0.82      0.50      0.62       119\n",
            "          14       0.82      0.57      0.67       127\n",
            "          15       0.63      0.69      0.66       122\n",
            "          16       0.73      0.55      0.63       121\n",
            "          17       0.86      0.62      0.72       102\n",
            "          18       0.59      0.09      0.16       107\n",
            "          19       0.00      0.00      0.00        75\n",
            "\n",
            "    accuracy                           0.51      2263\n",
            "   macro avg       0.64      0.50      0.53      2263\n",
            "weighted avg       0.66      0.51      0.55      2263\n",
            "\n"
          ]
        },
        {
          "output_type": "stream",
          "name": "stderr",
          "text": [
            "/usr/local/lib/python3.10/dist-packages/sklearn/metrics/_classification.py:1344: UndefinedMetricWarning: Precision and F-score are ill-defined and being set to 0.0 in labels with no predicted samples. Use `zero_division` parameter to control this behavior.\n",
            "  _warn_prf(average, modifier, msg_start, len(result))\n",
            "/usr/local/lib/python3.10/dist-packages/sklearn/metrics/_classification.py:1344: UndefinedMetricWarning: Precision and F-score are ill-defined and being set to 0.0 in labels with no predicted samples. Use `zero_division` parameter to control this behavior.\n",
            "  _warn_prf(average, modifier, msg_start, len(result))\n",
            "/usr/local/lib/python3.10/dist-packages/sklearn/metrics/_classification.py:1344: UndefinedMetricWarning: Precision and F-score are ill-defined and being set to 0.0 in labels with no predicted samples. Use `zero_division` parameter to control this behavior.\n",
            "  _warn_prf(average, modifier, msg_start, len(result))\n"
          ]
        }
      ]
    },
    {
      "cell_type": "code",
      "source": [
        "tng_test_mutual_info = k_mi_best.transform(tng_test_data)\n",
        "\n",
        "print('Performance after Mutual Information: ')\n",
        "tng_mi_pred = log_reg_mi.predict(tng_test_mutual_info)\n",
        "accuracy = accuracy_score(tng_test_lbl, tng_mi_pred)\n",
        "print(f\"Accuracy: {accuracy:.4f}\")\n",
        "\n",
        "# Classification report\n",
        "class_report = classification_report(tng_test_lbl, tng_mi_pred)\n",
        "print(\"Classification Report:\")\n",
        "print(class_report)"
      ],
      "metadata": {
        "colab": {
          "base_uri": "https://localhost:8080/"
        },
        "id": "PTEESuI2NlHz",
        "outputId": "a11ec008-6f77-44af-ed4e-a963e5ca9fec"
      },
      "execution_count": null,
      "outputs": [
        {
          "output_type": "stream",
          "name": "stdout",
          "text": [
            "Performance after Mutual Information: \n",
            "Accuracy: 0.2554\n",
            "Classification Report:\n",
            "              precision    recall  f1-score   support\n",
            "\n",
            "           0       0.14      0.03      0.05        97\n",
            "           1       0.26      0.36      0.30       104\n",
            "           2       0.62      0.57      0.60       115\n",
            "           3       0.33      0.24      0.28       123\n",
            "           4       0.21      0.07      0.11       126\n",
            "           5       0.24      0.39      0.30       106\n",
            "           6       0.31      0.63      0.41       109\n",
            "           7       0.31      0.06      0.10       139\n",
            "           8       0.13      0.15      0.14       122\n",
            "           9       0.15      0.23      0.18       102\n",
            "          10       0.13      0.37      0.19       108\n",
            "          11       0.38      0.45      0.41       125\n",
            "          12       0.26      0.20      0.23       114\n",
            "          13       0.18      0.18      0.18       119\n",
            "          14       0.24      0.17      0.19       127\n",
            "          15       0.39      0.52      0.45       122\n",
            "          16       0.29      0.12      0.16       121\n",
            "          17       0.18      0.30      0.23       102\n",
            "          18       0.57      0.04      0.07       107\n",
            "          19       0.00      0.00      0.00        75\n",
            "\n",
            "    accuracy                           0.26      2263\n",
            "   macro avg       0.27      0.25      0.23      2263\n",
            "weighted avg       0.27      0.26      0.23      2263\n",
            "\n"
          ]
        },
        {
          "output_type": "stream",
          "name": "stderr",
          "text": [
            "/usr/local/lib/python3.10/dist-packages/sklearn/metrics/_classification.py:1344: UndefinedMetricWarning: Precision and F-score are ill-defined and being set to 0.0 in labels with no predicted samples. Use `zero_division` parameter to control this behavior.\n",
            "  _warn_prf(average, modifier, msg_start, len(result))\n",
            "/usr/local/lib/python3.10/dist-packages/sklearn/metrics/_classification.py:1344: UndefinedMetricWarning: Precision and F-score are ill-defined and being set to 0.0 in labels with no predicted samples. Use `zero_division` parameter to control this behavior.\n",
            "  _warn_prf(average, modifier, msg_start, len(result))\n",
            "/usr/local/lib/python3.10/dist-packages/sklearn/metrics/_classification.py:1344: UndefinedMetricWarning: Precision and F-score are ill-defined and being set to 0.0 in labels with no predicted samples. Use `zero_division` parameter to control this behavior.\n",
            "  _warn_prf(average, modifier, msg_start, len(result))\n"
          ]
        }
      ]
    },
    {
      "cell_type": "markdown",
      "source": [
        "###Decision Tree on 20NG"
      ],
      "metadata": {
        "id": "c2Bl18jSmI0g"
      }
    },
    {
      "cell_type": "code",
      "source": [
        "tree_clf_tng_low_depth_chi2 = DecisionTreeClassifier(class_weight='balanced',max_depth=100)\n",
        "tree_clf_tng_low_depth_chi2.fit(tng_chi2, tng_train_lbl)\n",
        "\n",
        "tree_clf_tng_max_depth_chi2 = DecisionTreeClassifier(class_weight='balanced')\n",
        "tree_clf_tng_max_depth_chi2.fit(tng_chi2, tng_train_lbl)\n",
        "\n",
        "tree_clf_tng_low_depth_mi = DecisionTreeClassifier(class_weight='balanced',max_depth=100)\n",
        "tree_clf_tng_low_depth_mi.fit(tng_mutual_info, tng_train_lbl)\n",
        "\n",
        "tree_clf_tng_max_depth_mi = DecisionTreeClassifier(class_weight='balanced')\n",
        "tree_clf_tng_max_depth_mi.fit(tng_mutual_info, tng_train_lbl)"
      ],
      "metadata": {
        "id": "ljkRCurkmLqh",
        "colab": {
          "base_uri": "https://localhost:8080/",
          "height": 75
        },
        "outputId": "64fc46b7-0f27-4642-889d-1f96aee226b8"
      },
      "execution_count": null,
      "outputs": [
        {
          "output_type": "execute_result",
          "data": {
            "text/plain": [
              "DecisionTreeClassifier(class_weight='balanced')"
            ],
            "text/html": [
              "<style>#sk-container-id-6 {color: black;background-color: white;}#sk-container-id-6 pre{padding: 0;}#sk-container-id-6 div.sk-toggleable {background-color: white;}#sk-container-id-6 label.sk-toggleable__label {cursor: pointer;display: block;width: 100%;margin-bottom: 0;padding: 0.3em;box-sizing: border-box;text-align: center;}#sk-container-id-6 label.sk-toggleable__label-arrow:before {content: \"▸\";float: left;margin-right: 0.25em;color: #696969;}#sk-container-id-6 label.sk-toggleable__label-arrow:hover:before {color: black;}#sk-container-id-6 div.sk-estimator:hover label.sk-toggleable__label-arrow:before {color: black;}#sk-container-id-6 div.sk-toggleable__content {max-height: 0;max-width: 0;overflow: hidden;text-align: left;background-color: #f0f8ff;}#sk-container-id-6 div.sk-toggleable__content pre {margin: 0.2em;color: black;border-radius: 0.25em;background-color: #f0f8ff;}#sk-container-id-6 input.sk-toggleable__control:checked~div.sk-toggleable__content {max-height: 200px;max-width: 100%;overflow: auto;}#sk-container-id-6 input.sk-toggleable__control:checked~label.sk-toggleable__label-arrow:before {content: \"▾\";}#sk-container-id-6 div.sk-estimator input.sk-toggleable__control:checked~label.sk-toggleable__label {background-color: #d4ebff;}#sk-container-id-6 div.sk-label input.sk-toggleable__control:checked~label.sk-toggleable__label {background-color: #d4ebff;}#sk-container-id-6 input.sk-hidden--visually {border: 0;clip: rect(1px 1px 1px 1px);clip: rect(1px, 1px, 1px, 1px);height: 1px;margin: -1px;overflow: hidden;padding: 0;position: absolute;width: 1px;}#sk-container-id-6 div.sk-estimator {font-family: monospace;background-color: #f0f8ff;border: 1px dotted black;border-radius: 0.25em;box-sizing: border-box;margin-bottom: 0.5em;}#sk-container-id-6 div.sk-estimator:hover {background-color: #d4ebff;}#sk-container-id-6 div.sk-parallel-item::after {content: \"\";width: 100%;border-bottom: 1px solid gray;flex-grow: 1;}#sk-container-id-6 div.sk-label:hover label.sk-toggleable__label {background-color: #d4ebff;}#sk-container-id-6 div.sk-serial::before {content: \"\";position: absolute;border-left: 1px solid gray;box-sizing: border-box;top: 0;bottom: 0;left: 50%;z-index: 0;}#sk-container-id-6 div.sk-serial {display: flex;flex-direction: column;align-items: center;background-color: white;padding-right: 0.2em;padding-left: 0.2em;position: relative;}#sk-container-id-6 div.sk-item {position: relative;z-index: 1;}#sk-container-id-6 div.sk-parallel {display: flex;align-items: stretch;justify-content: center;background-color: white;position: relative;}#sk-container-id-6 div.sk-item::before, #sk-container-id-6 div.sk-parallel-item::before {content: \"\";position: absolute;border-left: 1px solid gray;box-sizing: border-box;top: 0;bottom: 0;left: 50%;z-index: -1;}#sk-container-id-6 div.sk-parallel-item {display: flex;flex-direction: column;z-index: 1;position: relative;background-color: white;}#sk-container-id-6 div.sk-parallel-item:first-child::after {align-self: flex-end;width: 50%;}#sk-container-id-6 div.sk-parallel-item:last-child::after {align-self: flex-start;width: 50%;}#sk-container-id-6 div.sk-parallel-item:only-child::after {width: 0;}#sk-container-id-6 div.sk-dashed-wrapped {border: 1px dashed gray;margin: 0 0.4em 0.5em 0.4em;box-sizing: border-box;padding-bottom: 0.4em;background-color: white;}#sk-container-id-6 div.sk-label label {font-family: monospace;font-weight: bold;display: inline-block;line-height: 1.2em;}#sk-container-id-6 div.sk-label-container {text-align: center;}#sk-container-id-6 div.sk-container {/* jupyter's `normalize.less` sets `[hidden] { display: none; }` but bootstrap.min.css set `[hidden] { display: none !important; }` so we also need the `!important` here to be able to override the default hidden behavior on the sphinx rendered scikit-learn.org. See: https://github.com/scikit-learn/scikit-learn/issues/21755 */display: inline-block !important;position: relative;}#sk-container-id-6 div.sk-text-repr-fallback {display: none;}</style><div id=\"sk-container-id-6\" class=\"sk-top-container\"><div class=\"sk-text-repr-fallback\"><pre>DecisionTreeClassifier(class_weight=&#x27;balanced&#x27;)</pre><b>In a Jupyter environment, please rerun this cell to show the HTML representation or trust the notebook. <br />On GitHub, the HTML representation is unable to render, please try loading this page with nbviewer.org.</b></div><div class=\"sk-container\" hidden><div class=\"sk-item\"><div class=\"sk-estimator sk-toggleable\"><input class=\"sk-toggleable__control sk-hidden--visually\" id=\"sk-estimator-id-6\" type=\"checkbox\" checked><label for=\"sk-estimator-id-6\" class=\"sk-toggleable__label sk-toggleable__label-arrow\">DecisionTreeClassifier</label><div class=\"sk-toggleable__content\"><pre>DecisionTreeClassifier(class_weight=&#x27;balanced&#x27;)</pre></div></div></div></div></div>"
            ]
          },
          "metadata": {},
          "execution_count": 65
        }
      ]
    },
    {
      "cell_type": "code",
      "source": [
        "print(f\"Depth of low-depth chi2 tree: {tree_clf_tng_low_depth_chi2.get_depth()} \\nDepth of max-depth chi2 tree: {tree_clf_tng_max_depth_chi2.get_depth()}\")"
      ],
      "metadata": {
        "colab": {
          "base_uri": "https://localhost:8080/"
        },
        "id": "8uHZJznGIqOB",
        "outputId": "32134763-cce0-4357-d8ae-6bcc6b21d8c9"
      },
      "execution_count": null,
      "outputs": [
        {
          "output_type": "stream",
          "name": "stdout",
          "text": [
            "Depth of low-depth chi2 tree: 100 \n",
            "Depth of max-depth chi2 tree: 280\n"
          ]
        }
      ]
    },
    {
      "cell_type": "code",
      "source": [
        "print(f\"Depth of low-depth MI tree: {tree_clf_tng_low_depth_mi.get_depth()} \\nDepth of max-depth MI tree: {tree_clf_tng_max_depth_mi.get_depth()}\")"
      ],
      "metadata": {
        "colab": {
          "base_uri": "https://localhost:8080/"
        },
        "id": "zA13KDvLSKQr",
        "outputId": "054f6012-aa92-40aa-d08a-44cc02d18f67"
      },
      "execution_count": null,
      "outputs": [
        {
          "output_type": "stream",
          "name": "stdout",
          "text": [
            "Depth of low-depth MI tree: 100 \n",
            "Depth of max-depth MI tree: 337\n"
          ]
        }
      ]
    },
    {
      "cell_type": "markdown",
      "source": [
        "#### Classification performance"
      ],
      "metadata": {
        "id": "2jAX3xwYzI4b"
      }
    },
    {
      "cell_type": "markdown",
      "source": [
        "######Low Depth Decision Tree"
      ],
      "metadata": {
        "id": "70qNuW1DKtRk"
      }
    },
    {
      "cell_type": "code",
      "source": [
        "# Performance of Low Depth Decision Tree in HW3A-PB1"
      ],
      "metadata": {
        "colab": {
          "base_uri": "https://localhost:8080/"
        },
        "id": "VBtJmtq9yPYT",
        "outputId": "983ecbeb-9e9f-43aa-d285-b8bc9010daa3"
      },
      "execution_count": null,
      "outputs": [
        {
          "output_type": "stream",
          "name": "stdout",
          "text": [
            "Accuracy: 0.4565\n",
            "Classification Report:\n",
            "              precision    recall  f1-score   support\n",
            "\n",
            "           0       0.36      0.31      0.33        97\n",
            "           1       0.34      0.38      0.35       104\n",
            "           2       0.49      0.50      0.50       115\n",
            "           3       0.34      0.39      0.36       123\n",
            "           4       0.46      0.32      0.38       126\n",
            "           5       0.50      0.54      0.52       106\n",
            "           6       0.52      0.50      0.51       109\n",
            "           7       0.25      0.60      0.35       139\n",
            "           8       0.58      0.50      0.54       122\n",
            "           9       0.44      0.45      0.45       102\n",
            "          10       0.62      0.52      0.57       108\n",
            "          11       0.69      0.62      0.66       125\n",
            "          12       0.40      0.32      0.36       114\n",
            "          13       0.61      0.55      0.58       119\n",
            "          14       0.62      0.46      0.53       127\n",
            "          15       0.54      0.50      0.52       122\n",
            "          16       0.48      0.40      0.44       121\n",
            "          17       0.64      0.54      0.59       102\n",
            "          18       0.44      0.39      0.41       107\n",
            "          19       0.23      0.19      0.21        75\n",
            "\n",
            "    accuracy                           0.46      2263\n",
            "   macro avg       0.48      0.45      0.46      2263\n",
            "weighted avg       0.48      0.46      0.46      2263\n",
            "\n"
          ]
        }
      ]
    },
    {
      "cell_type": "code",
      "source": [
        "tng_test_chi2 = k_chi2_best.transform(tng_test_data)\n",
        "\n",
        "print('Performance after chi2')\n",
        "tng_chi2_pred = tree_clf_tng_low_depth_chi2.predict(tng_test_chi2)\n",
        "accuracy = accuracy_score(tng_test_lbl, tng_chi2_pred)\n",
        "print(f\"Accuracy: {accuracy:.4f}\")\n",
        "\n",
        "# Classification report\n",
        "class_report = classification_report(tng_test_lbl, tng_chi2_pred)\n",
        "print(\"Classification Report:\")\n",
        "print(class_report)"
      ],
      "metadata": {
        "colab": {
          "base_uri": "https://localhost:8080/"
        },
        "id": "nIfLTxcCI-95",
        "outputId": "5e199b6f-8111-4eb9-cb53-c5e66e31bc7b"
      },
      "execution_count": null,
      "outputs": [
        {
          "output_type": "stream",
          "name": "stdout",
          "text": [
            "Performance after chi2\n",
            "Accuracy: 0.4141\n",
            "Classification Report:\n",
            "              precision    recall  f1-score   support\n",
            "\n",
            "           0       0.44      0.25      0.32        97\n",
            "           1       0.43      0.28      0.34       104\n",
            "           2       0.57      0.35      0.43       115\n",
            "           3       0.49      0.35      0.41       123\n",
            "           4       0.54      0.25      0.34       126\n",
            "           5       0.63      0.57      0.60       106\n",
            "           6       0.52      0.45      0.48       109\n",
            "           7       0.72      0.42      0.53       139\n",
            "           8       0.74      0.47      0.57       122\n",
            "           9       0.65      0.29      0.41       102\n",
            "          10       0.80      0.51      0.62       108\n",
            "          11       0.83      0.68      0.75       125\n",
            "          12       0.32      0.11      0.17       114\n",
            "          13       0.86      0.43      0.57       119\n",
            "          14       0.75      0.46      0.57       127\n",
            "          15       0.57      0.41      0.48       122\n",
            "          16       0.63      0.43      0.51       121\n",
            "          17       0.84      0.57      0.68       102\n",
            "          18       0.10      0.81      0.17       107\n",
            "          19       0.12      0.08      0.09        75\n",
            "\n",
            "    accuracy                           0.41      2263\n",
            "   macro avg       0.58      0.41      0.45      2263\n",
            "weighted avg       0.59      0.41      0.46      2263\n",
            "\n"
          ]
        }
      ]
    },
    {
      "cell_type": "code",
      "source": [
        "tng_test_mutual_info = k_mi_best.transform(tng_test_data)\n",
        "\n",
        "print('Performance after Mutual Information: ')\n",
        "tng_mi_pred = tree_clf_tng_low_depth_mi.predict(tng_test_mutual_info)\n",
        "accuracy = accuracy_score(tng_test_lbl, tng_mi_pred)\n",
        "print(f\"Accuracy: {accuracy:.4f}\")\n",
        "\n",
        "# Classification report\n",
        "class_report = classification_report(tng_test_lbl, tng_mi_pred)\n",
        "print(\"Classification Report:\")\n",
        "print(class_report)"
      ],
      "metadata": {
        "colab": {
          "base_uri": "https://localhost:8080/"
        },
        "id": "uDPwH6rlKFyM",
        "outputId": "905298f0-ae58-42ab-9837-93595b0cf2b8"
      },
      "execution_count": null,
      "outputs": [
        {
          "output_type": "stream",
          "name": "stdout",
          "text": [
            "Performance after Mutual Information: \n",
            "Accuracy: 0.1732\n",
            "Classification Report:\n",
            "              precision    recall  f1-score   support\n",
            "\n",
            "           0       0.11      0.08      0.10        97\n",
            "           1       0.10      0.12      0.11       104\n",
            "           2       0.57      0.47      0.51       115\n",
            "           3       0.16      0.16      0.16       123\n",
            "           4       0.13      0.10      0.11       126\n",
            "           5       0.20      0.24      0.22       106\n",
            "           6       0.25      0.25      0.25       109\n",
            "           7       0.13      0.07      0.09       139\n",
            "           8       0.04      0.03      0.04       122\n",
            "           9       0.11      0.48      0.18       102\n",
            "          10       0.12      0.11      0.11       108\n",
            "          11       0.30      0.22      0.26       125\n",
            "          12       0.13      0.13      0.13       114\n",
            "          13       0.12      0.10      0.11       119\n",
            "          14       0.13      0.09      0.11       127\n",
            "          15       0.32      0.30      0.31       122\n",
            "          16       0.16      0.12      0.13       121\n",
            "          17       0.25      0.26      0.26       102\n",
            "          18       0.15      0.07      0.10       107\n",
            "          19       0.12      0.09      0.10        75\n",
            "\n",
            "    accuracy                           0.17      2263\n",
            "   macro avg       0.18      0.17      0.17      2263\n",
            "weighted avg       0.18      0.17      0.17      2263\n",
            "\n"
          ]
        }
      ]
    },
    {
      "cell_type": "markdown",
      "source": [
        "######Max Depth Decision Tree"
      ],
      "metadata": {
        "id": "6BHPy2s0K3zh"
      }
    },
    {
      "cell_type": "code",
      "source": [
        "# Performance of High Depth Decision Tree in HW3A-PB1"
      ],
      "metadata": {
        "colab": {
          "base_uri": "https://localhost:8080/"
        },
        "id": "GpWbNTYay2zY",
        "outputId": "bef3f887-e06a-4672-ec27-108ec76f4974"
      },
      "execution_count": null,
      "outputs": [
        {
          "output_type": "stream",
          "name": "stdout",
          "text": [
            "Accuracy: 0.4724\n",
            "Classification Report:\n",
            "              precision    recall  f1-score   support\n",
            "\n",
            "           0       0.39      0.40      0.40        97\n",
            "           1       0.39      0.38      0.39       104\n",
            "           2       0.44      0.52      0.48       115\n",
            "           3       0.39      0.41      0.40       123\n",
            "           4       0.47      0.30      0.37       126\n",
            "           5       0.48      0.54      0.51       106\n",
            "           6       0.50      0.53      0.52       109\n",
            "           7       0.31      0.60      0.41       139\n",
            "           8       0.57      0.52      0.55       122\n",
            "           9       0.49      0.50      0.49       102\n",
            "          10       0.59      0.51      0.54       108\n",
            "          11       0.67      0.65      0.66       125\n",
            "          12       0.38      0.33      0.36       114\n",
            "          13       0.51      0.57      0.54       119\n",
            "          14       0.60      0.45      0.51       127\n",
            "          15       0.56      0.51      0.53       122\n",
            "          16       0.46      0.44      0.45       121\n",
            "          17       0.70      0.60      0.65       102\n",
            "          18       0.48      0.36      0.41       107\n",
            "          19       0.25      0.19      0.21        75\n",
            "\n",
            "    accuracy                           0.47      2263\n",
            "   macro avg       0.48      0.47      0.47      2263\n",
            "weighted avg       0.49      0.47      0.47      2263\n"
          ]
        }
      ]
    },
    {
      "cell_type": "code",
      "source": [
        "tng_test_chi2 = k_chi2_best.transform(tng_test_data)\n",
        "\n",
        "print('Performance after chi2')\n",
        "tng_chi2_pred = tree_clf_tng_max_depth_chi2.predict(tng_test_chi2)\n",
        "accuracy = accuracy_score(tng_test_lbl, tng_chi2_pred)\n",
        "print(f\"Accuracy: {accuracy:.4f}\")\n",
        "\n",
        "# Classification report\n",
        "class_report = classification_report(tng_test_lbl, tng_chi2_pred)\n",
        "print(\"Classification Report:\")\n",
        "print(class_report)"
      ],
      "metadata": {
        "colab": {
          "base_uri": "https://localhost:8080/"
        },
        "id": "6bs8kTXhQaHS",
        "outputId": "89754152-474f-472c-c5d3-28155270ee85"
      },
      "execution_count": null,
      "outputs": [
        {
          "output_type": "stream",
          "name": "stdout",
          "text": [
            "Performance after chi2\n",
            "Accuracy: 0.4295\n",
            "Classification Report:\n",
            "              precision    recall  f1-score   support\n",
            "\n",
            "           0       0.42      0.29      0.34        97\n",
            "           1       0.40      0.32      0.35       104\n",
            "           2       0.53      0.36      0.42       115\n",
            "           3       0.46      0.37      0.41       123\n",
            "           4       0.57      0.27      0.37       126\n",
            "           5       0.56      0.59      0.58       106\n",
            "           6       0.50      0.49      0.49       109\n",
            "           7       0.68      0.45      0.54       139\n",
            "           8       0.69      0.47      0.56       122\n",
            "           9       0.58      0.37      0.46       102\n",
            "          10       0.75      0.51      0.61       108\n",
            "          11       0.81      0.68      0.74       125\n",
            "          12       0.26      0.13      0.18       114\n",
            "          13       0.81      0.44      0.57       119\n",
            "          14       0.69      0.48      0.57       127\n",
            "          15       0.55      0.43      0.49       122\n",
            "          16       0.59      0.45      0.51       121\n",
            "          17       0.77      0.62      0.68       102\n",
            "          18       0.10      0.69      0.18       107\n",
            "          19       0.10      0.07      0.08        75\n",
            "\n",
            "    accuracy                           0.43      2263\n",
            "   macro avg       0.54      0.42      0.46      2263\n",
            "weighted avg       0.55      0.43      0.47      2263\n",
            "\n"
          ]
        }
      ]
    },
    {
      "cell_type": "code",
      "source": [
        "tng_test_mutual_info = k_mi_best.transform(tng_test_data)\n",
        "\n",
        "print('Performance after Mutual Information: ')\n",
        "tng_mi_pred = tree_clf_tng_max_depth_mi.predict(tng_test_mutual_info)\n",
        "accuracy = accuracy_score(tng_test_lbl, tng_mi_pred)\n",
        "print(f\"Accuracy: {accuracy:.4f}\")\n",
        "\n",
        "# Classification report\n",
        "class_report = classification_report(tng_test_lbl, tng_mi_pred)\n",
        "print(\"Classification Report:\")\n",
        "print(class_report)"
      ],
      "metadata": {
        "colab": {
          "base_uri": "https://localhost:8080/"
        },
        "id": "G1NGE_xjLaxh",
        "outputId": "fc6b5ae5-1289-410c-dd14-32202843baaa"
      },
      "execution_count": null,
      "outputs": [
        {
          "output_type": "stream",
          "name": "stdout",
          "text": [
            "Performance after Mutual Information: \n",
            "Accuracy: 0.1710\n",
            "Classification Report:\n",
            "              precision    recall  f1-score   support\n",
            "\n",
            "           0       0.09      0.08      0.09        97\n",
            "           1       0.16      0.18      0.17       104\n",
            "           2       0.54      0.45      0.49       115\n",
            "           3       0.16      0.17      0.16       123\n",
            "           4       0.12      0.11      0.11       126\n",
            "           5       0.22      0.28      0.25       106\n",
            "           6       0.23      0.25      0.24       109\n",
            "           7       0.11      0.18      0.13       139\n",
            "           8       0.04      0.03      0.04       122\n",
            "           9       0.15      0.18      0.16       102\n",
            "          10       0.11      0.11      0.11       108\n",
            "          11       0.27      0.22      0.24       125\n",
            "          12       0.11      0.11      0.11       114\n",
            "          13       0.12      0.13      0.13       119\n",
            "          14       0.12      0.09      0.11       127\n",
            "          15       0.27      0.26      0.26       122\n",
            "          16       0.18      0.16      0.17       121\n",
            "          17       0.22      0.25      0.24       102\n",
            "          18       0.10      0.05      0.06       107\n",
            "          19       0.11      0.09      0.10        75\n",
            "\n",
            "    accuracy                           0.17      2263\n",
            "   macro avg       0.17      0.17      0.17      2263\n",
            "weighted avg       0.17      0.17      0.17      2263\n",
            "\n"
          ]
        }
      ]
    },
    {
      "cell_type": "code",
      "source": [],
      "metadata": {
        "id": "CY3hMqocLv9L"
      },
      "execution_count": null,
      "outputs": []
    }
  ]
}